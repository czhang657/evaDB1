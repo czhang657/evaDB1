{
  "cells": [
    {
      "cell_type": "code",
      "execution_count": null,
      "metadata": {
        "id": "J36Y28__A8df"
      },
      "outputs": [],
      "source": [
        "%pip install evadb\n",
        "%pip install openai\n",
        "%pip install unstructured\n",
        "%pip install langchain\n",
        "%pip install tiktoken\n",
        "%pip install streamlit\n",
        "import evadb\n",
        "import os"
      ]
    },
    {
      "cell_type": "code",
      "execution_count": 5,
      "metadata": {},
      "outputs": [
        {
          "name": "stdout",
          "output_type": "stream",
          "text": [
            "Note: you may need to restart the kernel to use updated packages.\n"
          ]
        },
        {
          "name": "stderr",
          "output_type": "stream",
          "text": [
            "ERROR: Ignored the following versions that require a different python version: 0.1.1 Requires-Python >=3.9; 0.1.2 Requires-Python >=3.8; 0.2.0 Requires-Python >=3.8; 0.3.0 Requires-Python >=3.8; 0.3.1 Requires-Python >=3.8; 0.3.2 Requires-Python >=3.8; 0.3.3 Requires-Python >=3.8; 0.4.0 Requires-Python >=3.8; 0.5.0 Requires-Python >=3.8; 0.5.1 Requires-Python >=3.8\n",
            "ERROR: Could not find a version that satisfies the requirement tiktoken (from versions: none)\n",
            "ERROR: No matching distribution found for tiktoken\n"
          ]
        }
      ],
      "source": [
        "%pip install tiktoken"
      ]
    },
    {
      "cell_type": "code",
      "execution_count": 2,
      "metadata": {},
      "outputs": [],
      "source": [
        "\n",
        "import os"
      ]
    },
    {
      "cell_type": "code",
      "execution_count": 3,
      "metadata": {},
      "outputs": [
        {
          "ename": "AttributeError",
          "evalue": "module 'os' has no attribute '__version__'",
          "output_type": "error",
          "traceback": [
            "\u001b[1;31m---------------------------------------------------------------------------\u001b[0m",
            "\u001b[1;31mAttributeError\u001b[0m                            Traceback (most recent call last)",
            "\u001b[1;32m~\\AppData\\Local\\Temp\\ipykernel_22272\\2102402085.py\u001b[0m in \u001b[0;36m<module>\u001b[1;34m\u001b[0m\n\u001b[1;32m----> 1\u001b[1;33m \u001b[0mprint\u001b[0m\u001b[1;33m(\u001b[0m\u001b[0mos\u001b[0m\u001b[1;33m.\u001b[0m\u001b[0m__version__\u001b[0m\u001b[1;33m)\u001b[0m\u001b[1;33m\u001b[0m\u001b[1;33m\u001b[0m\u001b[0m\n\u001b[0m",
            "\u001b[1;31mAttributeError\u001b[0m: module 'os' has no attribute '__version__'"
          ]
        }
      ],
      "source": [
        "print(os.__version__)"
      ]
    },
    {
      "cell_type": "code",
      "execution_count": 6,
      "metadata": {},
      "outputs": [
        {
          "ename": "ModuleNotFoundError",
          "evalue": "No module named 'tiktoken'",
          "output_type": "error",
          "traceback": [
            "\u001b[1;31m---------------------------------------------------------------------------\u001b[0m",
            "\u001b[1;31mModuleNotFoundError\u001b[0m                       Traceback (most recent call last)",
            "\u001b[1;32m~\\AppData\\Local\\Temp\\ipykernel_22272\\2974933617.py\u001b[0m in \u001b[0;36m<module>\u001b[1;34m\u001b[0m\n\u001b[1;32m----> 1\u001b[1;33m \u001b[1;32mimport\u001b[0m \u001b[0mstreamlit\u001b[0m \u001b[1;32mas\u001b[0m \u001b[0mst\u001b[0m\u001b[1;33m,\u001b[0m \u001b[0mtiktoken\u001b[0m\u001b[1;33m\u001b[0m\u001b[1;33m\u001b[0m\u001b[0m\n\u001b[0m\u001b[0;32m      2\u001b[0m \u001b[1;32mfrom\u001b[0m \u001b[0mlangchain\u001b[0m\u001b[1;33m.\u001b[0m\u001b[0mchat_models\u001b[0m \u001b[1;32mimport\u001b[0m \u001b[0mChatOpenAI\u001b[0m\u001b[1;33m\u001b[0m\u001b[1;33m\u001b[0m\u001b[0m\n\u001b[0;32m      3\u001b[0m \u001b[1;32mfrom\u001b[0m \u001b[0mlangchain\u001b[0m\u001b[1;33m.\u001b[0m\u001b[0mutilities\u001b[0m \u001b[1;32mimport\u001b[0m \u001b[0mGoogleSerperAPIWrapper\u001b[0m\u001b[1;33m\u001b[0m\u001b[1;33m\u001b[0m\u001b[0m\n\u001b[0;32m      4\u001b[0m \u001b[1;32mfrom\u001b[0m \u001b[0mlangchain\u001b[0m\u001b[1;33m.\u001b[0m\u001b[0mdocument_loaders\u001b[0m \u001b[1;32mimport\u001b[0m \u001b[0mUnstructuredURLLoader\u001b[0m\u001b[1;33m\u001b[0m\u001b[1;33m\u001b[0m\u001b[0m\n\u001b[0;32m      5\u001b[0m \u001b[1;32mfrom\u001b[0m \u001b[0mlangchain\u001b[0m\u001b[1;33m.\u001b[0m\u001b[0mchains\u001b[0m\u001b[1;33m.\u001b[0m\u001b[0msummarize\u001b[0m \u001b[1;32mimport\u001b[0m \u001b[0mload_summarize_chain\u001b[0m\u001b[1;33m\u001b[0m\u001b[1;33m\u001b[0m\u001b[0m\n",
            "\u001b[1;31mModuleNotFoundError\u001b[0m: No module named 'tiktoken'"
          ]
        }
      ],
      "source": [
        "import streamlit as st, tiktoken\n",
        "from langchain.chat_models import ChatOpenAI\n",
        "from langchain.utilities import GoogleSerperAPIWrapper\n",
        "from langchain.document_loaders import UnstructuredURLLoader\n",
        "from langchain.chains.summarize import load_summarize_chain"
      ]
    },
    {
      "cell_type": "code",
      "execution_count": 3,
      "metadata": {
        "colab": {
          "base_uri": "https://localhost:8080/"
        },
        "id": "GqVYfgVTA_YL",
        "outputId": "05b9b381-90c1-471a-926a-f0daa338fe45"
      },
      "outputs": [
        {
          "name": "stderr",
          "output_type": "stream",
          "text": [
            "Downloading: \"http://ml.cs.tsinghua.edu.cn/~chenxi/pytorch-models/mnist-b07bb66b.pth\" to /root/.cache/torch/hub/checkpoints/mnist-b07bb66b.pth\n",
            "100%|██████████| 1.03M/1.03M [00:01<00:00, 875kB/s]\n",
            "Downloading: \"https://download.pytorch.org/models/fasterrcnn_resnet50_fpn_coco-258fb6c6.pth\" to /root/.cache/torch/hub/checkpoints/fasterrcnn_resnet50_fpn_coco-258fb6c6.pth\n"
          ]
        }
      ],
      "source": [
        "cursor = evadb.connect().cursor()"
      ]
    },
    {
      "cell_type": "code",
      "execution_count": null,
      "metadata": {},
      "outputs": [],
      "source": [
        "print(cursor.query(\n",
        "    \"\"\"CREATE TABLE IF NOT EXISTS News111 (title1 TEXT(50), link TEXT(50), summary TEXT(50));\"\"\"\n",
        ").execute())\n",
        "cursor.query(\"INSERT INTO News111 (title1, link, summary) VALUES ('1', '2', '3')\").df();\n",
        "cursor.query(\"SELECT * FROM News111\").df()\n",
        "SerperAPI = str(input(\n",
        "            \"Please enter your Serper API key: \"))\n",
        "url = 'https://api.example.com/data'\n",
        "OpenAPI = str(\n",
        "        input(\n",
        "            \"Please enter your OpenAI API key: \"\n",
        "        )\n",
        "    )\n",
        "keyWord = str(\n",
        "    input(\n",
        "        \"Please enter your key word: \"\n",
        "    )\n",
        ")\n",
        "\n",
        "\n",
        "\n",
        "os.environ[\"SERPER_KEY\"] = SerperAPI\n",
        "os.environ[\"OPEN_KEY\"] = OpenAPI"
      ]
    },
    {
      "cell_type": "code",
      "execution_count": null,
      "metadata": {},
      "outputs": [],
      "source": [
        "search = GoogleSerperAPIWrapper(type=\"news\", tbs=\"qdr:w1\", serper_api_key=SerperAPI)\n",
        "cursor.drop_table(\"News111\", if_exists=True).execute()\n",
        "result_dict = search.results(\"word\")\n",
        "print(cursor.query(\n",
        "    \"\"\"CREATE TABLE IF NOT EXISTS News111 (title1 TEXT(50), link TEXT(50), summary TEXT(50));\"\"\"\n",
        ").execute())\n",
        "cursor.query(\"SELECT * FROM News111\").df()\n",
        "count = 0\n",
        "for news_item in result_dict['news']:\n",
        "    if count < 3:\n",
        "        title = news_item['title'][:50]  # Limit the title to 50 characters\n",
        "        link = news_item['link']    # Limit the link to 50 characters\n",
        "        loader = UnstructuredURLLoader(urls=[news_item['link']])\n",
        "        data = loader.load()\n",
        "        llm = ChatOpenAI(temperature=0, model='gpt-3.5-turbo', openai_api_key=OpenAPI)\n",
        "        chain = load_summarize_chain(llm, chain_type=\"map_reduce\")\n",
        "        summary = chain.run(data)\n",
        "        try:\n",
        "            cursor.query(f\"INSERT INTO News111 (title1, link, summary) VALUES ('{title}', '{link}', '{summary}')\").df();\n",
        "            cursor.query(\"SELECT * FROM News111\").df()\n",
        "            count += 1\n",
        "        except:\n",
        "            pass\n",
        "    else:\n",
        "      break"
      ]
    },
    {
      "cell_type": "code",
      "execution_count": null,
      "metadata": {},
      "outputs": [],
      "source": [
        "cursor.query(\"SELECT * FROM News111\").df()"
      ]
    },
    {
      "cell_type": "code",
      "execution_count": null,
      "metadata": {},
      "outputs": [],
      "source": [
        "# cursor.query(\"DROP UDF IF EXISTS Similarity;\").execute()\n",
        "Similarity_function_query = \"\"\"CREATE UDF Similarity\n",
        "                INPUT (Frame_Array_Open NDARRAY UINT8(3, ANYDIM, ANYDIM),\n",
        "                        Frame_Array_Base NDARRAY UINT8(3, ANYDIM, ANYDIM),\n",
        "                        Feature_Extractor_Name TEXT(100))\n",
        "                OUTPUT (distance FLOAT(32, 7))\n",
        "                TYPE NdarrayFunction\n",
        "                IMPL './similarity.py'\"\"\"\n",
        "\n",
        "cursor.query(Similarity_function_query).execute()"
      ]
    }
  ],
  "metadata": {
    "colab": {
      "provenance": []
    },
    "kernelspec": {
      "display_name": "Python 3",
      "name": "python3"
    },
    "language_info": {
      "codemirror_mode": {
        "name": "ipython",
        "version": 3
      },
      "file_extension": ".py",
      "mimetype": "text/x-python",
      "name": "python",
      "nbconvert_exporter": "python",
      "pygments_lexer": "ipython3",
      "version": "3.7.16"
    }
  },
  "nbformat": 4,
  "nbformat_minor": 0
}
